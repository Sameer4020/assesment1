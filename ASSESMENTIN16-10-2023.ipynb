{
  "nbformat": 4,
  "nbformat_minor": 0,
  "metadata": {
    "colab": {
      "provenance": []
    },
    "kernelspec": {
      "name": "python3",
      "display_name": "Python 3"
    },
    "language_info": {
      "name": "python"
    }
  },
  "cells": [
    {
      "cell_type": "code",
      "execution_count": 4,
      "metadata": {
        "colab": {
          "base_uri": "https://localhost:8080/"
        },
        "id": "Yiai_7xInzFY",
        "outputId": "61887d3a-8fb3-4615-d8b2-4c82c675a16b"
      },
      "outputs": [
        {
          "output_type": "stream",
          "name": "stdout",
          "text": [
            "{0: 'Ramesh', 1: 'Mahesh', 2: 'Kamlesh', 3: 'Suresh'}\n"
          ]
        }
      ],
      "source": [
        "def fun(lst):\n",
        "\n",
        "    return dict([(i, x) for i, x in enumerate(lst)])\n",
        "\n",
        "lst = ['Ramesh', 'Mahesh', 'Kamlesh', 'Suresh']\n",
        "\n",
        "dct = fun(lst)\n",
        "\n",
        "print(dct)"
      ]
    }
  ]
}