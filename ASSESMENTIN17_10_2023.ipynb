{
  "nbformat": 4,
  "nbformat_minor": 0,
  "metadata": {
    "colab": {
      "provenance": []
    },
    "kernelspec": {
      "name": "python3",
      "display_name": "Python 3"
    },
    "language_info": {
      "name": "python"
    }
  },
  "cells": [
    {
      "cell_type": "code",
      "execution_count": 2,
      "metadata": {
        "colab": {
          "base_uri": "https://localhost:8080/"
        },
        "id": "Nr7ylGr0gdqh",
        "outputId": "35994268-4d98-462f-9a89-3aa203e11dba"
      },
      "outputs": [
        {
          "output_type": "stream",
          "name": "stdout",
          "text": [
            "[2, 4]\n"
          ]
        }
      ],
      "source": [
        "L = [1, 2, 3, 4]\n",
        "\n",
        "def fun(S):\n",
        "    return S % 2 == 0\n",
        "\n",
        "list2 = filter(fun, L)\n",
        "output = list(list2)\n",
        "\n",
        "print(output)"
      ]
    }
  ]
}